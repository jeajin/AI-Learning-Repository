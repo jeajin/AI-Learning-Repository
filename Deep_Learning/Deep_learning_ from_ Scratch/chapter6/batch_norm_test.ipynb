{
 "cells": [
  {
   "cell_type": "code",
   "execution_count": 3,
   "metadata": {},
   "outputs": [
    {
     "name": "stdout",
     "output_type": "stream",
     "text": [
      "============== 1/16 ==============\n",
      "epoch:0 | 0.087 - 0.119\n",
      "epoch:1 | 0.105 - 0.14\n"
     ]
    },
    {
     "name": "stderr",
     "output_type": "stream",
     "text": [
      "../common/multi_layer_net_extend.py:99: RuntimeWarning: overflow encountered in square\n",
      "/usr/local/lib/python3.5/dist-packages/numpy/core/fromnumeric.py:86: RuntimeWarning: overflow encountered in reduce\n",
      "  return ufunc.reduce(obj, axis, dtype, out, **passkwargs)\n",
      "../common/multi_layer_net_extend.py:99: RuntimeWarning: invalid value encountered in double_scalars\n"
     ]
    },
    {
     "name": "stdout",
     "output_type": "stream",
     "text": [
      "epoch:2 | 0.117 - 0.144\n",
      "epoch:3 | 0.099 - 0.148\n",
      "epoch:4 | 0.117 - 0.164\n",
      "epoch:5 | 0.117 - 0.176\n",
      "epoch:6 | 0.117 - 0.183\n",
      "epoch:7 | 0.117 - 0.21\n",
      "epoch:8 | 0.117 - 0.232\n",
      "epoch:9 | 0.117 - 0.25\n",
      "epoch:10 | 0.117 - 0.268\n",
      "epoch:11 | 0.117 - 0.284\n",
      "epoch:12 | 0.117 - 0.312\n",
      "epoch:13 | 0.117 - 0.315\n",
      "epoch:14 | 0.117 - 0.343\n",
      "epoch:15 | 0.117 - 0.355\n",
      "epoch:16 | 0.117 - 0.377\n",
      "epoch:17 | 0.117 - 0.387\n",
      "epoch:18 | 0.117 - 0.406\n",
      "epoch:19 | 0.117 - 0.418\n"
     ]
    },
    {
     "name": "stderr",
     "output_type": "stream",
     "text": [
      "No handles with labels found to put in legend.\n",
      "../common/layers.py:11: RuntimeWarning: invalid value encountered in less_equal\n",
      "  self.mask = (x <= 0)\n"
     ]
    },
    {
     "name": "stdout",
     "output_type": "stream",
     "text": [
      "============== 2/16 ==============\n",
      "epoch:0 | 0.097 - 0.088\n",
      "epoch:1 | 0.097 - 0.086\n",
      "epoch:2 | 0.097 - 0.124\n",
      "epoch:3 | 0.097 - 0.145\n",
      "epoch:4 | 0.097 - 0.154\n",
      "epoch:5 | 0.097 - 0.172\n",
      "epoch:6 | 0.097 - 0.19\n",
      "epoch:7 | 0.097 - 0.208\n",
      "epoch:8 | 0.097 - 0.23\n",
      "epoch:9 | 0.097 - 0.251\n",
      "epoch:10 | 0.097 - 0.275\n",
      "epoch:11 | 0.097 - 0.301\n",
      "epoch:12 | 0.097 - 0.317\n",
      "epoch:13 | 0.097 - 0.329\n",
      "epoch:14 | 0.097 - 0.348\n",
      "epoch:15 | 0.097 - 0.364\n",
      "epoch:16 | 0.097 - 0.375\n",
      "epoch:17 | 0.097 - 0.397\n",
      "epoch:18 | 0.097 - 0.411\n",
      "epoch:19 | 0.097 - 0.432\n"
     ]
    },
    {
     "name": "stderr",
     "output_type": "stream",
     "text": [
      "No handles with labels found to put in legend.\n"
     ]
    },
    {
     "name": "stdout",
     "output_type": "stream",
     "text": [
      "============== 3/16 ==============\n",
      "epoch:0 | 0.166 - 0.105\n",
      "epoch:1 | 0.445 - 0.117\n",
      "epoch:2 | 0.602 - 0.145\n",
      "epoch:3 | 0.684 - 0.2\n",
      "epoch:4 | 0.763 - 0.243\n",
      "epoch:5 | 0.817 - 0.284\n",
      "epoch:6 | 0.866 - 0.322\n",
      "epoch:7 | 0.895 - 0.357\n",
      "epoch:8 | 0.902 - 0.386\n",
      "epoch:9 | 0.928 - 0.433\n",
      "epoch:10 | 0.964 - 0.457\n",
      "epoch:11 | 0.97 - 0.477\n",
      "epoch:12 | 0.977 - 0.494\n",
      "epoch:13 | 0.985 - 0.505\n",
      "epoch:14 | 0.989 - 0.537\n",
      "epoch:15 | 0.996 - 0.559\n",
      "epoch:16 | 0.999 - 0.569\n",
      "epoch:17 | 0.998 - 0.582\n"
     ]
    },
    {
     "name": "stderr",
     "output_type": "stream",
     "text": [
      "No handles with labels found to put in legend.\n"
     ]
    },
    {
     "name": "stdout",
     "output_type": "stream",
     "text": [
      "epoch:18 | 0.999 - 0.599\n",
      "epoch:19 | 1.0 - 0.609\n",
      "============== 4/16 ==============\n",
      "epoch:0 | 0.081 - 0.086\n",
      "epoch:1 | 0.267 - 0.116\n",
      "epoch:2 | 0.391 - 0.151\n",
      "epoch:3 | 0.494 - 0.206\n",
      "epoch:4 | 0.552 - 0.266\n",
      "epoch:5 | 0.625 - 0.304\n",
      "epoch:6 | 0.665 - 0.355\n",
      "epoch:7 | 0.699 - 0.401\n",
      "epoch:8 | 0.733 - 0.461\n",
      "epoch:9 | 0.749 - 0.505\n",
      "epoch:10 | 0.783 - 0.553\n",
      "epoch:11 | 0.805 - 0.588\n",
      "epoch:12 | 0.813 - 0.616\n",
      "epoch:13 | 0.827 - 0.651\n",
      "epoch:14 | 0.832 - 0.677\n",
      "epoch:15 | 0.842 - 0.691\n",
      "epoch:16 | 0.855 - 0.709\n",
      "epoch:17 | 0.856 - 0.725\n",
      "epoch:18 | 0.858 - 0.742\n"
     ]
    },
    {
     "name": "stderr",
     "output_type": "stream",
     "text": [
      "No handles with labels found to put in legend.\n"
     ]
    },
    {
     "name": "stdout",
     "output_type": "stream",
     "text": [
      "epoch:19 | 0.86 - 0.762\n",
      "============== 5/16 ==============\n",
      "epoch:0 | 0.086 - 0.091\n",
      "epoch:1 | 0.087 - 0.17\n",
      "epoch:2 | 0.093 - 0.323\n",
      "epoch:3 | 0.104 - 0.441\n",
      "epoch:4 | 0.118 - 0.527\n",
      "epoch:5 | 0.137 - 0.591\n",
      "epoch:6 | 0.159 - 0.64\n",
      "epoch:7 | 0.207 - 0.684\n",
      "epoch:8 | 0.229 - 0.704\n",
      "epoch:9 | 0.258 - 0.737\n",
      "epoch:10 | 0.269 - 0.764\n",
      "epoch:11 | 0.283 - 0.784\n",
      "epoch:12 | 0.315 - 0.788\n",
      "epoch:13 | 0.33 - 0.806\n",
      "epoch:14 | 0.339 - 0.815\n",
      "epoch:15 | 0.339 - 0.835\n",
      "epoch:16 | 0.359 - 0.836\n",
      "epoch:17 | 0.374 - 0.848\n"
     ]
    },
    {
     "name": "stderr",
     "output_type": "stream",
     "text": [
      "No handles with labels found to put in legend.\n"
     ]
    },
    {
     "name": "stdout",
     "output_type": "stream",
     "text": [
      "epoch:18 | 0.377 - 0.861\n",
      "epoch:19 | 0.375 - 0.874\n",
      "============== 6/16 ==============\n",
      "epoch:0 | 0.129 - 0.099\n",
      "epoch:1 | 0.144 - 0.235\n",
      "epoch:2 | 0.142 - 0.422\n",
      "epoch:3 | 0.133 - 0.568\n",
      "epoch:4 | 0.127 - 0.658\n",
      "epoch:5 | 0.134 - 0.713\n",
      "epoch:6 | 0.143 - 0.755\n",
      "epoch:7 | 0.117 - 0.784\n",
      "epoch:8 | 0.136 - 0.818\n",
      "epoch:9 | 0.165 - 0.844\n",
      "epoch:10 | 0.153 - 0.865\n",
      "epoch:11 | 0.157 - 0.874\n",
      "epoch:12 | 0.137 - 0.895\n",
      "epoch:13 | 0.142 - 0.908\n",
      "epoch:14 | 0.118 - 0.92\n",
      "epoch:15 | 0.116 - 0.932\n",
      "epoch:16 | 0.12 - 0.943\n",
      "epoch:17 | 0.116 - 0.947\n",
      "epoch:18 | 0.116 - 0.951\n"
     ]
    },
    {
     "name": "stderr",
     "output_type": "stream",
     "text": [
      "No handles with labels found to put in legend.\n"
     ]
    },
    {
     "name": "stdout",
     "output_type": "stream",
     "text": [
      "epoch:19 | 0.116 - 0.953\n",
      "============== 7/16 ==============\n",
      "epoch:0 | 0.117 - 0.093\n",
      "epoch:1 | 0.117 - 0.319\n",
      "epoch:2 | 0.117 - 0.575\n",
      "epoch:3 | 0.117 - 0.687\n",
      "epoch:4 | 0.117 - 0.75\n",
      "epoch:5 | 0.117 - 0.789\n",
      "epoch:6 | 0.117 - 0.816\n",
      "epoch:7 | 0.117 - 0.846\n",
      "epoch:8 | 0.117 - 0.868\n",
      "epoch:9 | 0.117 - 0.888\n",
      "epoch:10 | 0.117 - 0.903\n",
      "epoch:11 | 0.117 - 0.919\n",
      "epoch:12 | 0.117 - 0.939\n",
      "epoch:13 | 0.117 - 0.949\n",
      "epoch:14 | 0.117 - 0.956\n",
      "epoch:15 | 0.117 - 0.967\n",
      "epoch:16 | 0.117 - 0.972\n",
      "epoch:17 | 0.117 - 0.98\n"
     ]
    },
    {
     "name": "stderr",
     "output_type": "stream",
     "text": [
      "No handles with labels found to put in legend.\n"
     ]
    },
    {
     "name": "stdout",
     "output_type": "stream",
     "text": [
      "epoch:18 | 0.117 - 0.986\n",
      "epoch:19 | 0.117 - 0.988\n",
      "============== 8/16 ==============\n",
      "epoch:0 | 0.116 - 0.103\n",
      "epoch:1 | 0.116 - 0.416\n",
      "epoch:2 | 0.116 - 0.74\n",
      "epoch:3 | 0.116 - 0.817\n",
      "epoch:4 | 0.116 - 0.864\n",
      "epoch:5 | 0.116 - 0.913\n",
      "epoch:6 | 0.116 - 0.928\n",
      "epoch:7 | 0.116 - 0.952\n",
      "epoch:8 | 0.116 - 0.969\n",
      "epoch:9 | 0.116 - 0.973\n",
      "epoch:10 | 0.116 - 0.978\n",
      "epoch:11 | 0.116 - 0.988\n",
      "epoch:12 | 0.116 - 0.993\n",
      "epoch:13 | 0.116 - 0.996\n",
      "epoch:14 | 0.116 - 0.997\n",
      "epoch:15 | 0.116 - 0.998\n",
      "epoch:16 | 0.116 - 0.998\n",
      "epoch:17 | 0.116 - 0.998\n",
      "epoch:18 | 0.116 - 0.999\n"
     ]
    },
    {
     "name": "stderr",
     "output_type": "stream",
     "text": [
      "No handles with labels found to put in legend.\n"
     ]
    },
    {
     "name": "stdout",
     "output_type": "stream",
     "text": [
      "epoch:19 | 0.116 - 1.0\n",
      "============== 9/16 ==============\n",
      "epoch:0 | 0.117 - 0.105\n",
      "epoch:1 | 0.116 - 0.484\n",
      "epoch:2 | 0.116 - 0.737\n",
      "epoch:3 | 0.116 - 0.8\n",
      "epoch:4 | 0.116 - 0.877\n",
      "epoch:5 | 0.116 - 0.911\n",
      "epoch:6 | 0.116 - 0.933\n",
      "epoch:7 | 0.116 - 0.956\n",
      "epoch:8 | 0.116 - 0.961\n",
      "epoch:9 | 0.116 - 0.982\n",
      "epoch:10 | 0.116 - 0.988\n",
      "epoch:11 | 0.116 - 0.995\n",
      "epoch:12 | 0.116 - 0.995\n",
      "epoch:13 | 0.116 - 0.996\n",
      "epoch:14 | 0.116 - 0.997\n",
      "epoch:15 | 0.116 - 0.999\n",
      "epoch:16 | 0.116 - 0.999\n",
      "epoch:17 | 0.116 - 0.999\n",
      "epoch:18 | 0.116 - 0.999\n"
     ]
    },
    {
     "name": "stderr",
     "output_type": "stream",
     "text": [
      "No handles with labels found to put in legend.\n"
     ]
    },
    {
     "name": "stdout",
     "output_type": "stream",
     "text": [
      "epoch:19 | 0.116 - 0.999\n",
      "============== 10/16 ==============\n",
      "epoch:0 | 0.097 - 0.15\n",
      "epoch:1 | 0.117 - 0.494\n",
      "epoch:2 | 0.117 - 0.728\n",
      "epoch:3 | 0.117 - 0.811\n",
      "epoch:4 | 0.117 - 0.876\n",
      "epoch:5 | 0.117 - 0.951\n",
      "epoch:6 | 0.117 - 0.854\n",
      "epoch:7 | 0.117 - 0.966\n",
      "epoch:8 | 0.117 - 0.977\n",
      "epoch:9 | 0.116 - 0.985\n",
      "epoch:10 | 0.117 - 0.993\n",
      "epoch:11 | 0.117 - 0.994\n",
      "epoch:12 | 0.117 - 0.996\n",
      "epoch:13 | 0.117 - 0.998\n",
      "epoch:14 | 0.117 - 0.999\n",
      "epoch:15 | 0.117 - 0.999\n",
      "epoch:16 | 0.116 - 0.999\n",
      "epoch:17 | 0.116 - 0.999\n",
      "epoch:18 | 0.116 - 0.999\n",
      "epoch:19 | 0.116 - 0.999\n"
     ]
    },
    {
     "name": "stderr",
     "output_type": "stream",
     "text": [
      "No handles with labels found to put in legend.\n"
     ]
    },
    {
     "name": "stdout",
     "output_type": "stream",
     "text": [
      "============== 11/16 ==============\n",
      "epoch:0 | 0.092 - 0.129\n",
      "epoch:1 | 0.117 - 0.587\n",
      "epoch:2 | 0.117 - 0.742\n",
      "epoch:3 | 0.117 - 0.885\n",
      "epoch:4 | 0.117 - 0.723\n",
      "epoch:5 | 0.117 - 0.887\n",
      "epoch:6 | 0.117 - 0.891\n",
      "epoch:7 | 0.117 - 0.955\n",
      "epoch:8 | 0.117 - 0.976\n",
      "epoch:9 | 0.117 - 0.932\n",
      "epoch:10 | 0.117 - 0.976\n",
      "epoch:11 | 0.116 - 0.969\n",
      "epoch:12 | 0.117 - 0.989\n",
      "epoch:13 | 0.116 - 0.977\n",
      "epoch:14 | 0.116 - 0.993\n",
      "epoch:15 | 0.116 - 0.997\n",
      "epoch:16 | 0.116 - 0.997\n",
      "epoch:17 | 0.116 - 0.997\n",
      "epoch:18 | 0.116 - 0.997\n"
     ]
    },
    {
     "name": "stderr",
     "output_type": "stream",
     "text": [
      "No handles with labels found to put in legend.\n"
     ]
    },
    {
     "name": "stdout",
     "output_type": "stream",
     "text": [
      "epoch:19 | 0.116 - 0.997\n",
      "============== 12/16 ==============\n",
      "epoch:0 | 0.117 - 0.137\n",
      "epoch:1 | 0.116 - 0.343\n",
      "epoch:2 | 0.116 - 0.688\n",
      "epoch:3 | 0.117 - 0.707\n",
      "epoch:4 | 0.117 - 0.768\n",
      "epoch:5 | 0.117 - 0.774\n",
      "epoch:6 | 0.117 - 0.791\n",
      "epoch:7 | 0.117 - 0.736\n",
      "epoch:8 | 0.117 - 0.924\n",
      "epoch:9 | 0.117 - 0.917\n",
      "epoch:10 | 0.117 - 0.94\n",
      "epoch:11 | 0.117 - 0.971\n",
      "epoch:12 | 0.117 - 0.908\n",
      "epoch:13 | 0.117 - 0.977\n",
      "epoch:14 | 0.117 - 0.98\n",
      "epoch:15 | 0.117 - 0.987\n",
      "epoch:16 | 0.117 - 0.987\n",
      "epoch:17 | 0.117 - 0.977\n",
      "epoch:18 | 0.117 - 0.985\n"
     ]
    },
    {
     "name": "stderr",
     "output_type": "stream",
     "text": [
      "No handles with labels found to put in legend.\n"
     ]
    },
    {
     "name": "stdout",
     "output_type": "stream",
     "text": [
      "epoch:19 | 0.117 - 0.984\n",
      "============== 13/16 ==============\n",
      "epoch:0 | 0.116 - 0.142\n",
      "epoch:1 | 0.116 - 0.334\n",
      "epoch:2 | 0.116 - 0.478\n",
      "epoch:3 | 0.116 - 0.489\n",
      "epoch:4 | 0.116 - 0.495\n",
      "epoch:5 | 0.116 - 0.563\n",
      "epoch:6 | 0.116 - 0.57\n",
      "epoch:7 | 0.116 - 0.592\n",
      "epoch:8 | 0.116 - 0.544\n",
      "epoch:9 | 0.116 - 0.587\n",
      "epoch:10 | 0.116 - 0.632\n",
      "epoch:11 | 0.116 - 0.632\n",
      "epoch:12 | 0.116 - 0.636\n",
      "epoch:13 | 0.116 - 0.646\n",
      "epoch:14 | 0.116 - 0.637\n",
      "epoch:15 | 0.116 - 0.639\n",
      "epoch:16 | 0.116 - 0.63\n",
      "epoch:17 | 0.116 - 0.621\n"
     ]
    },
    {
     "name": "stderr",
     "output_type": "stream",
     "text": [
      "No handles with labels found to put in legend.\n"
     ]
    },
    {
     "name": "stdout",
     "output_type": "stream",
     "text": [
      "epoch:18 | 0.116 - 0.612\n",
      "epoch:19 | 0.116 - 0.596\n",
      "============== 14/16 ==============\n",
      "epoch:0 | 0.117 - 0.124\n",
      "epoch:1 | 0.116 - 0.293\n",
      "epoch:2 | 0.116 - 0.442\n",
      "epoch:3 | 0.116 - 0.476\n",
      "epoch:4 | 0.117 - 0.502\n",
      "epoch:5 | 0.117 - 0.508\n",
      "epoch:6 | 0.117 - 0.515\n",
      "epoch:7 | 0.117 - 0.604\n",
      "epoch:8 | 0.117 - 0.607\n",
      "epoch:9 | 0.116 - 0.602\n",
      "epoch:10 | 0.116 - 0.581\n",
      "epoch:11 | 0.116 - 0.592\n",
      "epoch:12 | 0.116 - 0.61\n",
      "epoch:13 | 0.116 - 0.647\n",
      "epoch:14 | 0.116 - 0.587\n",
      "epoch:15 | 0.116 - 0.662\n",
      "epoch:16 | 0.116 - 0.667\n",
      "epoch:17 | 0.116 - 0.636\n",
      "epoch:18 | 0.116 - 0.623\n"
     ]
    },
    {
     "name": "stderr",
     "output_type": "stream",
     "text": [
      "No handles with labels found to put in legend.\n"
     ]
    },
    {
     "name": "stdout",
     "output_type": "stream",
     "text": [
      "epoch:19 | 0.117 - 0.707\n",
      "============== 15/16 ==============\n",
      "epoch:0 | 0.116 - 0.097\n",
      "epoch:1 | 0.116 - 0.309\n",
      "epoch:2 | 0.116 - 0.319\n",
      "epoch:3 | 0.117 - 0.315\n",
      "epoch:4 | 0.117 - 0.323\n",
      "epoch:5 | 0.117 - 0.323\n",
      "epoch:6 | 0.116 - 0.411\n",
      "epoch:7 | 0.116 - 0.421\n",
      "epoch:8 | 0.116 - 0.411\n",
      "epoch:9 | 0.116 - 0.396\n",
      "epoch:10 | 0.116 - 0.423\n",
      "epoch:11 | 0.116 - 0.406\n",
      "epoch:12 | 0.116 - 0.417\n",
      "epoch:13 | 0.116 - 0.427\n",
      "epoch:14 | 0.116 - 0.43\n",
      "epoch:15 | 0.116 - 0.431\n",
      "epoch:16 | 0.116 - 0.428\n",
      "epoch:17 | 0.116 - 0.429\n",
      "epoch:18 | 0.116 - 0.429\n"
     ]
    },
    {
     "name": "stderr",
     "output_type": "stream",
     "text": [
      "No handles with labels found to put in legend.\n"
     ]
    },
    {
     "name": "stdout",
     "output_type": "stream",
     "text": [
      "epoch:19 | 0.117 - 0.422\n",
      "============== 16/16 ==============\n",
      "epoch:0 | 0.099 - 0.103\n",
      "epoch:1 | 0.117 - 0.18\n",
      "epoch:2 | 0.116 - 0.318\n",
      "epoch:3 | 0.117 - 0.355\n",
      "epoch:4 | 0.117 - 0.338\n",
      "epoch:5 | 0.117 - 0.362\n",
      "epoch:6 | 0.117 - 0.355\n",
      "epoch:7 | 0.117 - 0.391\n",
      "epoch:8 | 0.117 - 0.391\n",
      "epoch:9 | 0.117 - 0.402\n",
      "epoch:10 | 0.117 - 0.408\n",
      "epoch:11 | 0.117 - 0.401\n",
      "epoch:12 | 0.117 - 0.411\n",
      "epoch:13 | 0.117 - 0.399\n",
      "epoch:14 | 0.117 - 0.414\n",
      "epoch:15 | 0.117 - 0.414\n",
      "epoch:16 | 0.117 - 0.411\n",
      "epoch:17 | 0.117 - 0.415\n",
      "epoch:18 | 0.117 - 0.416\n",
      "epoch:19 | 0.117 - 0.411\n"
     ]
    },
    {
     "data": {
      "image/png": "[encoded data removed]",
      "text/plain": [
       "<Figure size 432x288 with 16 Axes>"
      ]
     },
     "metadata": {
      "needs_background": "light"
     },
     "output_type": "display_data"
    }
   ],
   "source": [
    "import sys, os\n",
    "sys.path.append(os.pardir)  # 親ディレクトリのファイルをインポートするための設定\n",
    "import numpy as np\n",
    "import matplotlib.pyplot as plt\n",
    "from dataset.mnist import load_mnist\n",
    "from common.multi_layer_net_extend import MultiLayerNetExtend\n",
    "from common.optimizer import SGD, Adam\n",
    "\n",
    "(x_train, t_train), (x_test, t_test) = load_mnist(normalize=True)\n",
    "\n",
    "# 学習データを削減\n",
    "x_train = x_train[:1000]\n",
    "t_train = t_train[:1000]\n",
    "\n",
    "max_epochs = 20\n",
    "train_size = x_train.shape[0]\n",
    "batch_size = 100\n",
    "learning_rate = 0.01\n",
    "\n",
    "\n",
    "def __train(weight_init_std):\n",
    "    bn_network = MultiLayerNetExtend(input_size=784, hidden_size_list=[100, 100, 100, 100, 100], output_size=10, \n",
    "                                    weight_init_std=weight_init_std, use_batchnorm=True)\n",
    "    network = MultiLayerNetExtend(input_size=784, hidden_size_list=[100, 100, 100, 100, 100], output_size=10,\n",
    "                                weight_init_std=weight_init_std)\n",
    "    optimizer = SGD(lr=learning_rate)\n",
    "    \n",
    "    train_acc_list = []\n",
    "    bn_train_acc_list = []\n",
    "    \n",
    "    iter_per_epoch = max(train_size / batch_size, 1)\n",
    "    epoch_cnt = 0\n",
    "    \n",
    "    for i in range(1000000000):\n",
    "        batch_mask = np.random.choice(train_size, batch_size)\n",
    "        x_batch = x_train[batch_mask]\n",
    "        t_batch = t_train[batch_mask]\n",
    "    \n",
    "        for _network in (bn_network, network):\n",
    "            grads = _network.gradient(x_batch, t_batch)\n",
    "            optimizer.update(_network.params, grads)\n",
    "    \n",
    "        if i % iter_per_epoch == 0:\n",
    "            train_acc = network.accuracy(x_train, t_train)\n",
    "            bn_train_acc = bn_network.accuracy(x_train, t_train)\n",
    "            train_acc_list.append(train_acc)\n",
    "            bn_train_acc_list.append(bn_train_acc)\n",
    "    \n",
    "            print(\"epoch:\" + str(epoch_cnt) + \" | \" + str(train_acc) + \" - \" + str(bn_train_acc))\n",
    "    \n",
    "            epoch_cnt += 1\n",
    "            if epoch_cnt >= max_epochs:\n",
    "                break\n",
    "                \n",
    "    return train_acc_list, bn_train_acc_list\n",
    "\n",
    "\n",
    "# 3.グラフの描画==========\n",
    "weight_scale_list = np.logspace(0, -4, num=16)\n",
    "x = np.arange(max_epochs)\n",
    "\n",
    "for i, w in enumerate(weight_scale_list):\n",
    "    print( \"============== \" + str(i+1) + \"/16\" + \" ==============\")\n",
    "    train_acc_list, bn_train_acc_list = __train(w)\n",
    "    \n",
    "    plt.subplot(4,4,i+1)\n",
    "    plt.title(\"W:\" + str(w))\n",
    "    if i == 15:\n",
    "        plt.plot(x, bn_train_acc_list, label='Batch Normalization', markevery=2)\n",
    "        plt.plot(x, train_acc_list, linestyle = \"--\", label='Normal(without BatchNorm)', markevery=2)\n",
    "    else:\n",
    "        plt.plot(x, bn_train_acc_list, markevery=2)\n",
    "        plt.plot(x, train_acc_list, linestyle=\"--\", markevery=2)\n",
    "\n",
    "    plt.ylim(0, 1.0)\n",
    "    if i % 4:\n",
    "        plt.yticks([])\n",
    "    else:\n",
    "        plt.ylabel(\"accuracy\")\n",
    "    if i < 12:\n",
    "        plt.xticks([])\n",
    "    else:\n",
    "        plt.xlabel(\"epochs\")\n",
    "    plt.legend(loc='lower right')\n",
    "    \n",
    "plt.show()"
   ]
  }
 ],
 "metadata": {
  "kernelspec": {
   "display_name": "Python 3",
   "language": "python",
   "name": "python3"
  },
  "language_info": {
   "codemirror_mode": {
    "name": "ipython",
    "version": 3
   },
   "file_extension": ".py",
   "mimetype": "text/x-python",
   "name": "python",
   "nbconvert_exporter": "python",
   "pygments_lexer": "ipython3",
   "version": "3.5.2"
  }
 },
 "nbformat": 4,
 "nbformat_minor": 2
}
